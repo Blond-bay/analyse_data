{
 "cells": [
  {
   "cell_type": "code",
   "execution_count": 4,
   "metadata": {},
   "outputs": [],
   "source": [
    "import numpy as np"
   ]
  },
  {
   "cell_type": "code",
   "execution_count": 5,
   "metadata": {},
   "outputs": [],
   "source": [
    "p_gaia = 0.6799677466559306E-3 #arcsec\n",
    "D_th = 1/p_gaia\n",
    "\n",
    "\n",
    "a_V = -4.05\n",
    "b_V = -2.43\n",
    "a_K = -5.71\n",
    "b_K = -3.32\n",
    "P = 2.592891\n",
    "V = 8.2\n",
    "K = 6.403\n",
    "A = 0"
   ]
  },
  {
   "cell_type": "code",
   "execution_count": 6,
   "metadata": {},
   "outputs": [],
   "source": [
    "m = V\n",
    "a = a_V\n",
    "b = b_V"
   ]
  },
  {
   "cell_type": "code",
   "execution_count": 7,
   "metadata": {},
   "outputs": [
    {
     "name": "stdout",
     "output_type": "stream",
     "text": [
      "M_V =  -2.6254957524648193 [mag]\n",
      "D = 1462.511031192388 [pc]\n",
      "D_GAIA = 1470.6579906443833 [pc]\n"
     ]
    }
   ],
   "source": [
    "M = a + b*(np.log10(P) - 1)\n",
    "D = 10**((m - M + 5 - A) / 5)\n",
    "print('M_V = ',M,'[mag]')\n",
    "print('D =',D,'[pc]')\n",
    "print('D_GAIA =',D_th,'[pc]')"
   ]
  },
  {
   "cell_type": "code",
   "execution_count": null,
   "metadata": {},
   "outputs": [],
   "source": []
  }
 ],
 "metadata": {
  "kernelspec": {
   "display_name": "Python 3",
   "language": "python",
   "name": "python3"
  },
  "language_info": {
   "codemirror_mode": {
    "name": "ipython",
    "version": 3
   },
   "file_extension": ".py",
   "mimetype": "text/x-python",
   "name": "python",
   "nbconvert_exporter": "python",
   "pygments_lexer": "ipython3",
   "version": "3.7.4"
  }
 },
 "nbformat": 4,
 "nbformat_minor": 2
}
